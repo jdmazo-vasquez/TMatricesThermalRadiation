{
 "cells": [
  {
   "cell_type": "markdown",
   "metadata": {},
   "source": [
    "# Comparison of our numerical results with those from PRB 86, 115423 (2012)\n",
    "This notebook contains the codes for comparing out method to compute the thermal emission spectrum with the results presented in the paper PRB 86, 115423 (2012)\n",
    "\n",
    "Last time edited: 03.07.2025"
   ]
  },
  {
   "cell_type": "markdown",
   "metadata": {},
   "source": [
    "## Necessary libraries:\n",
    "- Numpy for vector functions, as well for general math functions\n",
    "- Matplotlib for plotting\n",
    "- Treams to compute T-matrices\n",
    "- Scipy for computing the singular value decomposition and for computing numerical integrals\n",
    "\n",
    "For T-matrices, the notebook is set by default for the helicity basis. More information in https://tfp-photonics.github.io/treams/treams.html"
   ]
  },
  {
   "cell_type": "code",
   "execution_count": 1,
   "metadata": {},
   "outputs": [
    {
     "name": "stdout",
     "output_type": "stream",
     "text": [
      "Populating the interactive namespace from numpy and matplotlib\n"
     ]
    }
   ],
   "source": [
    "import numpy as np\n",
    "import matplotlib.pyplot as plt\n",
    "import treams as trm\n",
    "import numpy.linalg as lg\n",
    "from scipy.optimize import linear_sum_assignment\n",
    "from timeit import default_timer as timer\n",
    "%pylab inline\n",
    "\n",
    "trm.config.POLTYPE = 'helicity'"
   ]
  },
  {
   "cell_type": "markdown",
   "metadata": {},
   "source": [
    "# General parameters and physical constants "
   ]
  },
  {
   "cell_type": "code",
   "execution_count": 36,
   "metadata": {},
   "outputs": [],
   "source": [
    "hbar = 1.05457182e-34 #Dirac's constant in Js\n",
    "Kb = 1.380649e-23 #Boltzmann's constant in J/K\n",
    "c0 = 299792458 #Speed of light in vaccuum in m/s\n",
    "\n",
    "fvals = np.logspace(np.log10(1e11), np.log10(1e14), 300) #Range of frequencies\n",
    "kvals = 2*np.pi*fvals/c0 #Range of wave vectors\n",
    "\n",
    "mur = 1 #Magnetic permeability of the sphere\n",
    "radii = np.logspace(np.log10(1e-8), np.log10(5e-6), 80) #Array of radii\n",
    "eps_bg = 1 #Dielectric constant of the surrounding medium\n",
    "mu_bg = 1 #Magnetic permeability of the surrounding medium"
   ]
  },
  {
   "cell_type": "markdown",
   "metadata": {},
   "source": [
    "## Dielectric function of the sphere\n",
    "For the dielectric function of the sphere, we use the Drude model\n",
    "\n",
    "$$ \\epsilon(\\omega) = 1 - \\frac{\\omega_p^2}{\\omega(\\omega+ i\\omega_t)},$$\n",
    "with $\\omega_t = 2.67\\times 10^{-2}$ eV $ = 6.45$ THz, and $\\omega_p = 9.03$ eV $ = 2183.44$ THz."
   ]
  },
  {
   "cell_type": "code",
   "execution_count": 3,
   "metadata": {},
   "outputs": [],
   "source": [
    "plfreq = 2183.44e12 #Resonance frequency \n",
    "freqdam = 6.45e12 #Damping factor\n",
    "\n",
    "def epsr(f):\n",
    "    return 1 - (plfreq)**2/(f*(f+ 1j*freqdam))"
   ]
  },
  {
   "cell_type": "markdown",
   "metadata": {},
   "source": [
    "## Functions for calculating the T and Q matrices and SVD\n",
    "- The function `Tmatrix` computes the T-matrix up to order `jmax` for a sphere of radius `r` when this is illuminated with light of frequency `f` (in Hz). This function returns a matrix such that its dimension depends on `jmax`, i.e., the maximum multipolar order.\n",
    "- The function `Tmatrices` computes a T-matrix up to order `jmax` at every frequency in the array `fvals` for a sphere of radius `r`. It returns an array composed of matrices.\n",
    "- The function `Q-matrices` compute a Q-matrix for every T-matrix in the array `Tmats`\n",
    "- The function `SVD` computes the singular value decomposition of the Q-matrix for every matrix in the array `Qmats`. The function returns an array with two elements: the first one is an matrix whose rows contain the singular values for a single frequency. The second element is matrix whose rows contain the singular vectors for each single frequency. More information can be read below on how to access to the singular values and vectors. \n",
    "- `TestAccuracy` is a test function to check which value of jmax suits best for describing the system. A value for the radius `r` of the sphere is provided, and the idea is to compare the trace of the Q-matrix for all $j < j_\\text{max} = 30$, for the highest frequency value in the array `fvals` that is: $$\\frac{\\text{Tr}\\{\\mathbf{Q}(j)\\}}{\\text{Tr}\\{\\mathbf{Q}(j_\\text{max})\\}}$$. As close to 1 this number is for `jmax=30`, more accurate the computation will be.\n",
    "***"
   ]
  },
  {
   "cell_type": "code",
   "execution_count": 5,
   "metadata": {},
   "outputs": [],
   "source": [
    "def Tmatrix(f,r,jmax):\n",
    "    kvec = 2*np.pi*f/c0\n",
    "    materials = [trm.Material(epsr(f),mur,0), trm.Material(eps_bg,mu_bg,0)]\n",
    "    sph = trm.TMatrix.sphere(jmax, kvec, r, materials) \n",
    "    return sph.__array__()\n",
    "\n",
    "def Tmatrices(r,jmax):\n",
    "    Ts = []\n",
    "    for f in fvals:\n",
    "        materials = [trm.Material(epsr(f),mur,0), trm.Material(eps_bg,mu_bg,0)]\n",
    "        sph = trm.TMatrix.sphere(jmax, 2*np.pi*f/c0, r, materials) \n",
    "        Ts.append(sph.__array__())\n",
    "    return Ts\n",
    "\n",
    "def Qmatrices(Tmats):\n",
    "    Qs = []\n",
    "    for t in Tmats:\n",
    "        Qs.append(-2*t.T.conjugate() - 2*t - 4*np.matmul(t.T.conjugate(), t))\n",
    "    return Qs\n",
    "\n",
    "def SVD(Qmats):\n",
    "    K, gamma, G = lg.svd(Qmats[0])\n",
    "    val1, vec1 = gamma, G\n",
    "    sorted_levels = [val1]\n",
    "    sorted_vecs = [vec1]\n",
    "        \n",
    "    for f in range(len(fvals[1:])):\n",
    "        K, gamma, G = lg.svd(Qmats[f])\n",
    "        val2, vec2 = gamma, G\n",
    "        ov_matrix = np.abs(vec1 @ vec2.T.conj())\n",
    "        optimal = linear_sum_assignment(-ov_matrix)[1]\n",
    "        sorted_levels.append(val2[optimal])\n",
    "        vec1 = vec2[optimal,:]\n",
    "        sorted_vecs.append(vec1)\n",
    "\n",
    "    return [sorted_levels, sorted_vecs]\n",
    "\n",
    "def TestAccuracy(r):\n",
    "    acc = []\n",
    "    f = max(fvals)\n",
    "    for j in range(1,30): #This test is set for jmax = 15\n",
    "        tm = Tmatrix(f, r, j)\n",
    "        acc.append(np.trace(tm@tm.T.conj()))\n",
    "    return acc/acc[-1]"
   ]
  },
  {
   "cell_type": "code",
   "execution_count": 6,
   "metadata": {},
   "outputs": [
    {
     "data": {
      "text/plain": [
       "array([0.02569872+3.87453834e-20j, 0.06852798-2.09899103e-19j,\n",
       "       0.12847915-3.72439382e-19j, 0.20570692-1.45033581e-18j,\n",
       "       0.29945769-9.29019886e-19j, 0.41088624-1.26149290e-18j,\n",
       "       0.54287472-1.02459244e-18j, 0.68815355-1.52836873e-18j,\n",
       "       0.82877447-1.10588516e-18j, 0.94282683-1.94571318e-19j,\n",
       "       0.9932675 -7.39874884e-20j, 0.99960955+6.51217451e-20j,\n",
       "       0.99998478+2.84094341e-20j, 0.99999958-2.93827729e-20j,\n",
       "       0.99999999-3.97565685e-20j, 1.        +6.49331875e-20j,\n",
       "       1.        -1.45402125e-20j, 1.        +6.49331874e-20j,\n",
       "       1.        +8.39828769e-20j, 1.        +2.93857353e-20j,\n",
       "       1.        +5.65570594e-20j, 1.        +6.49331874e-20j,\n",
       "       1.        +6.49331874e-20j, 1.        +6.49331874e-20j,\n",
       "       1.        +4.58790110e-20j, 1.        +3.04415827e-20j,\n",
       "       1.        +6.49331874e-20j, 1.        +6.49331874e-20j,\n",
       "       1.        +0.00000000e+00j])"
      ]
     },
     "execution_count": 6,
     "metadata": {},
     "output_type": "execute_result"
    }
   ],
   "source": [
    "TestAccuracy(5e-6)"
   ]
  },
  {
   "cell_type": "markdown",
   "metadata": {},
   "source": [
    "***\n",
    "## Functions for computing the emission thermal spectrum\n",
    "- `PW2SW` is the function that transforms a vector from the plane wave basis to the multipolar basis. It takes as arguments the polar angle `theta` and azimuthal angle `phi`, and the maximum multipolar order `jmax`. Since the library Treams handles helicity values of 0 for -1 helicity, conversion to the value 1 is necessary. The function `SphericalWaveBasis.default(jmax)` provides the values of $j$ , $m$ and $\\lambda$ for each element of the array given the value of `jmax`, which is necessary to know the corresponding values to transform. Since states with opposite polarization are orthogonal, only elements with the same polarization as the one of interest (`lam=1`) are converted. The function returns a vector with the coefficients, whose dimension is $2j_\\text{max}(j_\\text{max} + 2).$\n",
    "- The function `prodDs` calculates the product between the elements of the Wigner matrices $D^j_{m1}$ and the vectors $|s\\rangle$ (Eq. (11)). The function takes as parameters the vector of coefficients in the multipolar basis obtained from the PW2SW function, and a singular vector s. Since the library Treams handles helicity values of 0 for -1 helicity, conversion to the value -1 is necessary. The function returns the squared scalar product value between the vectors $D$ and $|s\\rangle$.\n",
    "- The function `KirchhoffsLaw` computes the thermal angular spectrum (Eq. (18)). This function uses the coefficients given by `PW2SW` by considering the direction $-\\vec{k}$. This function takes as arguments the angles `theta` and `phi`, the helicity `lam=1` of the emitted radiation, the singular values `vals` and vectors `vecs`, respectively, the temperature `T`, and the maximum multipolar order `jmax`, and returns the value of the angular thermal spectrum multiplied by `k`, for having the correct units of photon density.\n",
    "\n",
    "***"
   ]
  },
  {
   "cell_type": "code",
   "execution_count": 7,
   "metadata": {},
   "outputs": [],
   "source": [
    "def PW2SW(theta, phi, jmax):\n",
    "    coeff = []\n",
    "    indices = trm.SphericalWaveBasis.default(jmax)\n",
    "    for count in range(len(indices)):\n",
    "        j, m, la = indices[count][1:]\n",
    "        if la != 1:\n",
    "            coeff.append(0.0)\n",
    "        else: \n",
    "            coeff.append(np.sqrt((2*j+1)/(4*np.pi))*trm.special.cython_special.wignerd(j,m,la,phi,theta,0))\n",
    "    return coeff\n",
    "\n",
    "def prodDs(Dvec, vec, jmax):\n",
    "    indices = trm.SphericalWaveBasis.default(jmax)\n",
    "    summ = 0\n",
    "    for count in range(len(indices)): #Loop over all possible combinacions of j,m and λ\n",
    "        j, m, la = indices[count][1:]\n",
    "        if la == 1:\n",
    "            summ += np.conjugate(Dvec[count])*vec[count]\n",
    "    return abs(summ)**2\n",
    "\n",
    "def KirchhoffsLaw(kvals, vals, vecs, jmax, T, D):\n",
    "    beta = (hbar*c0)/(Kb*T)\n",
    "    Expvals = []\n",
    "    for f in range(len(kvals)): #loop over the frequencies\n",
    "        Expval = 0\n",
    "        for i in range(len(vals[0])): #loop over the modes\n",
    "            Expval += c0*vals[f][i]/(2*np.pi*kvals[f]*(np.exp(beta*kvals[f]) -1)) * prodDs(D, vecs[f][i], jmax)\n",
    "        Expvals.append(Expval)\n",
    "    return 8*np.pi*kvals*Expvals\n",
    "    #A factor of 4π accounts for the integration over the solid angle\n",
    "    #A factor of 2 accounts for the contribution of both helicities"
   ]
  },
  {
   "cell_type": "markdown",
   "metadata": {},
   "source": [
    "## Code for computing the radiation rate\n",
    "\n",
    "The radiation rate is the energy emitted per unit time, therefore it is defined as the product of the number of photons times the energy of each photon. From Eq. (21) in the paper we have:\n",
    "\n",
    "$$E = \\int dk (\\hbar ck)\\mathcal{I}(k)$$\n",
    "\n",
    "#### Note : Because we're dealing with a spherical symmetric problem, the values of $\\theta$ and $\\phi$ do not matter. They were set both to $\\pi/4$"
   ]
  },
  {
   "cell_type": "code",
   "execution_count": null,
   "metadata": {},
   "outputs": [],
   "source": [
    "emph = []\n",
    "\n",
    "Dvec = PW2SW(np.pi-np.pi/4, np.pi/4 + np.pi, 16) #Since theta and phi are fixed, we compute the D vector \n",
    "\n",
    "for r in radii:\n",
    "    Tmats = Tmatrices(r, 16) #Computing T-matrices for a given radius r\n",
    "    Qmats = Qmatrices(Tmats) # Computing Q-matrices from the T-matrices array\n",
    "    vals, vecs = SVD(Qmats) # Computing the SVD for the array of Q-matrices\n",
    "    aspec = np.array(KirchhoffsLaw(kvals, vals, vecs, 16, 300, Dvec)) # Computing the thermal angular spectrum\n",
    "    #This result is already integrated over the solid angle and accounts for both helicities\n",
    "    integral = np.trapz(aspec*kvals*hbar*c0, kvals) # Integral over the wavenumbers of hbar c0 k\n",
    "    emph.append(integral) \n",
    "    \n",
    "emph = np.array(emph)"
   ]
  },
  {
   "cell_type": "markdown",
   "metadata": {},
   "source": [
    "Here I have the data extracted from the plot (Fig 2, for gold)"
   ]
  },
  {
   "cell_type": "code",
   "execution_count": 10,
   "metadata": {},
   "outputs": [],
   "source": [
    "x = np.array([0.010241479364986743, 0.010742072592206975, 0.011267134313695273, 0.011677705348628612, 0.012248499859720664,\n",
    "              0.012694831564284944, 0.013157427463875625, 0.01380054930607504, 0.014303437232453678, 0.01482465024581896,\n",
    "              0.01573588567649025, 0.01573588567649025, 0.016703132547319786, 0.017311789746714854, 0.017311789746714854,\n",
    "              0.018596450216023536, 0.018596450216023536, 0.01973952907728264, 0.01973952907728264, 0.02120434542841505, \n",
    "              0.021977025491086016, 0.022777861786226646, 0.022777861786226646, 0.023607880318602913, 0.024468144480290385,\n",
    "              0.02535975641305668, 0.026599315841134216, 0.02789946368933337, 0.029263161458788864, 0.030693515405837094,\n",
    "              0.03181197800999717, 0.032971197059952516, 0.03417265770850816, 0.03627316840844707, 0.037594951914272964, \n",
    "              0.03943255541228865, 0.04135997912402931, 0.04338161337134745, 0.0466008440002071, 0.04829896494358448,\n",
    "              0.05065976984987226, 0.055072227473618736, 0.057079043119940095, 0.057079043119940095, 0.06279534649342154,\n",
    "              0.06279534649342154, 0.06745521704851236, 0.07160152625237111, 0.07691487927157838, 0.08067440133510437, \n",
    "              0.086661027547453, 0.0930919048829988, 0.09881403934360738, 0.10614675837582266, 0.1153921235762442, \n",
    "              0.1269483156428495, 0.1380054930607504, 0.1482465024581896, 0.16115874844556538, 0.17311789746714853,\n",
    "              0.1997644181778878, 0.1997644181778878, 0.22240792540283694, 0.2417796191340484, 0.2789946368933337, \n",
    "              0.2789946368933337, 0.2996980642344617, 0.32193783617504945, 0.34997856876844147, 0.37594951914272967,\n",
    "              0.4338161337134745, 0.4338161337134745, 0.4772615822190871, 0.5250579684818939, 0.570790431199401, \n",
    "              0.6279534649342154, 0.6826481084732243, 0.742106646470834, 0.8067440133510437, 0.8770112842579528,\n",
    "              0.9533988229065413, 1.0488789958344928, 1.1267134313695277, 1.2395505680249326, 1.380054930607504,\n",
    "              1.5182634958570063, 1.6505039966923465, 1.7729833746196926, 1.9274099350107126, 2.120434542841506,\n",
    "              2.3327900146216027, 2.5359756413056678, 2.756858702663335, 3.032950238906006, 3.297119705995252, \n",
    "              3.584298290229587, 3.8964900819288695, 4.286712450465491, 4.716014476258922, 5.126778561668994,\n",
    "              5.640210812549223, 6.131472246881086, 6.745521704851239, 7.246088382581968, 7.971763467548977, 8.666102754745305,\n",
    "              9.42091887968359, 10.241479364986743, 11.13351053363194, 12.103237470386079, 13.315342183435215,\n",
    "              14.303437232453678, 15.549264263432166, 16.703132547319786, 18.375903632975856, 20.21619797195461,\n",
    "              21.97702549108604, 24.17796191340484, 26.28385842038877, 28.916111877071014, 31.811978009997166,\n",
    "              34.997856876844146, 38.50279242576957, 41.85637931489442, 46.600844000207104, 50.65976984987228, \n",
    "              55.07222747361874, 59.86900943083648, 65.86471997309903, 72.46088382581968, 79.71763467548976, 85.63326185631469,\n",
    "              93.09190488299889, 101.20019449085433, 118.1786052488106, 118.1786052488106])\n",
    "\n",
    "\n",
    "y = [0.00003730856204075847, 0.00004242868525999297, 0.00004825147993977597, 0.000053874466028569385,\n",
    "     0.00006126804780573322, 0.0000684079195967987, 0.00007637983632839309, 0.00008372831290589814,\n",
    "     0.00009348559163176585, 0.00010247980677365985, 0.00012314748077513774, 0.00012314748077513774,\n",
    "     0.000147983319823753, 0.0001592676820876664, 0.0001592676820876664, 0.00019138808352079013,\n",
    "     0.00019138808352079013, 0.00023425067503790608, 0.00023425067503790608, 0.0002814933147220582,\n",
    "     0.00030295838620428154, 0.0003260602613675859, 0.0003260602613675859, 0.00036405769307468883,\n",
    "     0.0003990835527651652, 0.00044559075354461553, 0.0004975176708454646, 0.0005554958913183835,\n",
    "     0.0006317306014157979, 0.0006925091753294399, 0.0007591352339758101, 0.0008321713617575644, \n",
    "     0.0009122342691203643, 0.0010185414872903903, 0.001137237216852285, 0.0012697651529487498,\n",
    "     0.0013919288015491254, 0.0015258457708361623, 0.0017036602037564508, 0.0018675687391126322,\n",
    "     0.0020099788582396156, 0.0024153425010859466, 0.002552201112356379, 0.002552201112356379,\n",
    "     0.002902458089863474, 0.002902458089863474, 0.0031817025386058047, 0.003424320991174662,\n",
    "     0.0037537736819256034, 0.004040015010570225, 0.004268931134726427, 0.004510818149278233,\n",
    "     0.00476641101336526, 0.005036486330526269, 0.005224985702369353, 0.005623413251903491,\n",
    "     0.0058338793975521155, 0.006164439817993191, 0.006395154835804983, 0.006634504769524052,\n",
    "     0.0068828127960871965, 0.0068828127960871965, 0.007010430382067983, 0.007140414187897262, \n",
    "     0.00740765676551733, 0.00740765676551733, 0.007545005739286743, 0.0076849013673076505, \n",
    "     0.007827390868337489, 0.007972522336639693, 0.00812034475821685, 0.00812034475821685,\n",
    "     0.008270908027344915, 0.008424262963413927, 0.00873955584274127, 0.008901600206323114,\n",
    "     0.009234758272715572, 0.009405984425858953, 0.009580385366544627, 0.009938948163124208,\n",
    "     0.010310930803913798, 0.010502110796366664, 0.010895170790621567, 0.011097183461362514,\n",
    "     0.01151251509822525, 0.01172597425059942, 0.011943391253134358, 0.012164839490258508,\n",
    "     0.012164839490258508, 0.01239039370705678, 0.01239039370705678, 0.01239039370705678, 0.01239039370705678,\n",
    "     0.012164839490258508, 0.012164839490258508, 0.011943391253134358, 0.011943391253134358, 0.01172597425059942,\n",
    "     0.01151251509822525, 0.01151251509822525, 0.011097183461362514, 0.010895170790621567, 0.010696835550219773,\n",
    "     0.010502110796366664, 0.010310930803913798, 0.010310930803913798, 0.010123231044170624, 0.009758019960055465,\n",
    "     0.009758019960055465, 0.009758019960055465, 0.009405984425858953, 0.009405984425858953, 0.009405984425858953,\n",
    "     0.009234758272715572, 0.009066649113412789, 0.009066649113412789, 0.008901600206323114, 0.008901600206323114, \n",
    "     0.00873955584274127, 0.00873955584274127, 0.008580461328080971, 0.008580461328080971, 0.008424262963413927, \n",
    "     0.008424262963413927, 0.008424262963413927, 0.008424262963413927, 0.008270908027344915, 0.008270908027344915,\n",
    "     0.008270908027344915, 0.00812034475821685, 0.00812034475821685, 0.00812034475821685, 0.00812034475821685,\n",
    "     0.00812034475821685, 0.007972522336639693, 0.007972522336639693] \n"
   ]
  },
  {
   "cell_type": "markdown",
   "metadata": {},
   "source": [
    "For comparing with the paper, our results should be normalized, so that we divide by $4\\pi R^2 \\sigma T^4$, where $\\sigma = 5.67034 Wm$^{-2}$T$^4$ is the Stefan-Boltzmann constant."
   ]
  },
  {
   "cell_type": "code",
   "execution_count": 20,
   "metadata": {},
   "outputs": [],
   "source": [
    "emphnew = []\n",
    "for i in range(len(radii)):\n",
    "    emphnew.append(emph[i]/(4*np.pi*radii[i]**2 * 300**4 * 5.67034419e-8))"
   ]
  },
  {
   "cell_type": "code",
   "execution_count": 35,
   "metadata": {},
   "outputs": [
    {
     "data": {
      "text/plain": [
       "(0.01, 5)"
      ]
     },
     "execution_count": 35,
     "metadata": {},
     "output_type": "execute_result"
    },
    {
     "data": {
      "image/png": "[encoded data removed]",
      "text/plain": [
       "<Figure size 504x288 with 1 Axes>"
      ]
     },
     "metadata": {
      "needs_background": "light"
     },
     "output_type": "display_data"
    }
   ],
   "source": [
    "plt.figure(figsize = (7,4))\n",
    "plt.loglog(radii*1e6, emphnew, '-o', c = 'blue', markersize = 2)\n",
    "plt.loglog(x, y, c = 'darkred')\n",
    "plt.xlabel(r'Radius ($\\mu$m)', fontsize = 14)\n",
    "plt.ylabel('Normalized Radiation rate',fontsize = 14)\n",
    "plt.xlim(1e-2, 5)"
   ]
  },
  {
   "cell_type": "code",
   "execution_count": 27,
   "metadata": {},
   "outputs": [],
   "source": [
    "file = open('Data_Krueger.dat', 'w')\n",
    "\n",
    "for i in range(len(x)):\n",
    "    file.write(\"%10.10e\\t%10.10e\\n\"%(x[i], y[i]))\n",
    "\n",
    "file.close()\n"
   ]
  },
  {
   "cell_type": "code",
   "execution_count": 26,
   "metadata": {},
   "outputs": [],
   "source": [
    "file = open('Data_comparison.dat', 'w')\n",
    "\n",
    "for i in range(len(radii)):\n",
    "    file.write(\"%10.10e\\t%10.10e\\n\"%(radii[i]*1e6, emphnew[i]))\n",
    "\n",
    "file.close()"
   ]
  },
  {
   "cell_type": "code",
   "execution_count": null,
   "metadata": {},
   "outputs": [],
   "source": []
  }
 ],
 "metadata": {
  "kernelspec": {
   "display_name": "Python 3",
   "language": "python",
   "name": "python3"
  },
  "language_info": {
   "codemirror_mode": {
    "name": "ipython",
    "version": 3
   },
   "file_extension": ".py",
   "mimetype": "text/x-python",
   "name": "python",
   "nbconvert_exporter": "python",
   "pygments_lexer": "ipython3",
   "version": "3.8.10"
  }
 },
 "nbformat": 4,
 "nbformat_minor": 5
}
