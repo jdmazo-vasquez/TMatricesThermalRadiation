{
 "cells": [
  {
   "cell_type": "markdown",
   "metadata": {},
   "source": [
    "# Thermal angular spectrum of a chiral helix\n",
    "This notebook contains the codes for computing the absorption cross-section, and thermal angular spectrum of a chiral helix made of silver. The parameters of the helix were discussed in the paper. The maximum value for the angular momentum in the multipole expansion is $j_\\text{max} = 5$.\n",
    "\n",
    "\n",
    "Last time edited: 08.04.2025"
   ]
  },
  {
   "cell_type": "markdown",
   "metadata": {},
   "source": [
    "## Necessary libraries:\n",
    "- Numpy for vector functions, as well for general math functions\n",
    "- Matplotlib for plotting\n",
    "- Treams to compute T-matrices\n",
    "- Scipy for computing the singular value decomposition and for computing numerical integrals\n",
    "- H5py for manipulating the T-matrix data\n",
    "\n",
    "For T-matrices, the notebook is set by default for the helicity basis. More information in https://tfp-photonics.github.io/treams/treams.html# "
   ]
  },
  {
   "cell_type": "code",
   "execution_count": 1,
   "metadata": {},
   "outputs": [
    {
     "name": "stdout",
     "output_type": "stream",
     "text": [
      "Populating the interactive namespace from numpy and matplotlib\n"
     ]
    }
   ],
   "source": [
    "import numpy as np\n",
    "import h5py\n",
    "import matplotlib.pyplot as plt\n",
    "import numpy.linalg as lg\n",
    "import treams as trm\n",
    "from scipy.optimize import linear_sum_assignment\n",
    "from scipy import integrate\n",
    "import matplotlib.colors as colors\n",
    "%pylab inline"
   ]
  },
  {
   "cell_type": "markdown",
   "metadata": {},
   "source": [
    "## Physical constants"
   ]
  },
  {
   "cell_type": "code",
   "execution_count": 2,
   "metadata": {},
   "outputs": [],
   "source": [
    "hbar = 1.05457182e-34 #Dirac's constant in Js\n",
    "Kb = 1.380649e-23 #Boltzmann's constant in J/K\n",
    "c0 = 299792458 #Speed of light in vaccuum in m/s"
   ]
  },
  {
   "cell_type": "markdown",
   "metadata": {},
   "source": [
    "## Importing the T-matrix data"
   ]
  },
  {
   "cell_type": "code",
   "execution_count": 3,
   "metadata": {},
   "outputs": [
    {
     "data": {
      "text/plain": [
       "['computation', 'embedding', 'frequency', 'modes', 'scatterer', 'tmatrix']"
      ]
     },
     "execution_count": 3,
     "metadata": {},
     "output_type": "execute_result"
    }
   ],
   "source": [
    "f1 = h5py.File('helix_8-256THz.tmat.h5', 'r') \n",
    "list(f1.keys())"
   ]
  },
  {
   "cell_type": "code",
   "execution_count": 4,
   "metadata": {},
   "outputs": [],
   "source": [
    "freqs = f1['frequency'][...]*1e12 #Array of frequencies in Hz\n",
    "Tmatrix = f1['tmatrix'][...]\n",
    "l = f1['modes/l'][...] #Orbital angular momentum\n",
    "m = f1['modes/m'][...] #Magnetic wavenumber (eigenvalue of Lz)\n",
    "pol = f1['modes/polarization'][...] #Polarization: 1 fot TE, 0 for TM\n",
    "epsamb = float(f1['embedding/relative_permittivity'][...]) #Materal parameters of the surrounding medium"
   ]
  },
  {
   "cell_type": "code",
   "execution_count": 5,
   "metadata": {},
   "outputs": [],
   "source": [
    "kvals = 2*np.pi*freqs/c0 #Range of k-vectors\n",
    "kplot = kvals*1e-2/(2*np.pi) #Range of wavenumbers in cm^-1"
   ]
  },
  {
   "cell_type": "markdown",
   "metadata": {},
   "source": [
    "## Converting the T-matrices to the helicity basis\n",
    "The T-matrices from the `.h5` file were computed in the parity basis. Since we are interested in computing the emission spectrum depending on the helicity of the emitted photons, it is necessary to transform the T-matrices to the helicty basis. To do so, we use the function `changepoltype()` from the library treams. More information can be found in https://tfp-photonics.github.io/treams/params.html#polarizations"
   ]
  },
  {
   "cell_type": "code",
   "execution_count": 6,
   "metadata": {},
   "outputs": [],
   "source": [
    "p = [ 1 if str(pol, encoding='utf8') == 'electric' else 0 for pol in pol]\n",
    "\n",
    "i = np.arange(0,70,1)\n",
    "Tmatrix = Tmatrix[:,i,:]\n",
    "Tmatrix = Tmatrix[:,:,i]\n",
    "basis = trm.SphericalWaveBasis.default(5)\n",
    "\n",
    "Tt = [ trm.TMatrix(Tmatrix[i,...], k0=2*np.pi*freqs[i]/c0, material=epsamb, basis=basis, poltype='parity') for i in range(len(freqs))]\n",
    "\n",
    "# Parity to helicity basis\n",
    "Th = [ T.changepoltype() for T in Tt ]\n",
    "Th = np.array(Th) #T-matrices in the helicity basis"
   ]
  },
  {
   "cell_type": "code",
   "execution_count": 7,
   "metadata": {},
   "outputs": [],
   "source": [
    "file = open('kplotvals_helix.dat','w')\n",
    "\n",
    "for i in range(len(kplot)):\n",
    "    file.write('%.10e\\n'%(kplot[i]))\n",
    "    \n",
    "file.close()"
   ]
  },
  {
   "cell_type": "markdown",
   "metadata": {},
   "source": [
    "***\n",
    "\n",
    "## Functions for calculating the T and S matrices and SVD\n",
    "- The function `QmatrixFromT` computes the Q-matrix given a T-matrix. This matrix is given by $$\\mathbf{Q} = -2\\mathbf{T}-2\\mathbf{T}^\\dagger-4\\mathbf{T}\\mathbf{T}^\\dagger,$$ as in Eq. (4). This function gives a matrix of the same size as the T-matrix.\n",
    "- The function `SVD` computes the singular value decomposition of any Q-matrix in the array `Qmatrixarray`. The function returns an array with two elements: the first one is an matrix whose rows contain the singular values for a single frequency. The second element is matrix whose rows contain the singular vectors for each single frequency. More information can be read below on how to access to the singular values and vectors. \n",
    "***\n"
   ]
  },
  {
   "cell_type": "code",
   "execution_count": 8,
   "metadata": {},
   "outputs": [],
   "source": [
    "def QmatrixFromT(TMat):\n",
    "    return -2*TMat.T.conjugate() - 2*TMat - 4*np.matmul(TMat.T.conjugate(), TMat)\n",
    "\n",
    "#Computing a Q-atrix for each T-matrix in the array Tmatrix\n",
    "Qmatrix = [QmatrixFromT(i) for i in Th]\n",
    "\n",
    "\n",
    "def SVD(Qmatrixarray):\n",
    "    K, gamma, G = lg.svd(Qmatrixarray[0])\n",
    "    val1, vec1 = gamma, G\n",
    "    sorted_levels = [val1]\n",
    "    sorted_vecs = [vec1]\n",
    "        \n",
    "    for Q in Qmatrixarray[1:]:\n",
    "        K, gamma, G = lg.svd(Q)\n",
    "        val2, vec2 = gamma, G\n",
    "        ov_matrix = np.abs(vec1 @ vec2.T.conj())\n",
    "        optimal = linear_sum_assignment(-ov_matrix)[1]\n",
    "        sorted_levels.append(val2[optimal])\n",
    "        vec1 = vec2[optimal,:]\n",
    "        sorted_vecs.append(vec1)\n",
    "    return [sorted_levels, sorted_vecs]"
   ]
  },
  {
   "cell_type": "markdown",
   "metadata": {},
   "source": [
    "Here we compute the SVD of every matrix in `Qmatrix`. To get the n-th singular value of the $f$-th frequency value in `fvals`, one should use `vals[f][n]`. Analogously for the n-th singular vector of the $f$-th frequency value in `fvals`, i.e., `vecs[f][n]`."
   ]
  },
  {
   "cell_type": "code",
   "execution_count": 9,
   "metadata": {},
   "outputs": [],
   "source": [
    "#Computing the SVD\n",
    "vals, vecs = SVD(Qmatrix)"
   ]
  },
  {
   "cell_type": "markdown",
   "metadata": {},
   "source": [
    "## Planck energy density and the helicity-dependent absorption cross-section\n",
    "Here I compute the absorption cross-section descriminated by the helicity of the absorbed photons, as given by Eq. (19), namely:\n",
    "$$\\sigma_\\lambda(k) = \\frac{\\pi}{2k^2}\\sum_s q_s(k)^2 \\sum_{jm}|s_{jm\\lambda}(k)|^2.$$\n",
    "This is computed by the function `absxsec` which receives the array of k-vectors `kvals` and the helicity of the absorbed photons `lam`.\n",
    "\n",
    "The function `PlanckE` computes the Planck energy density for a given k-vector `k` and temperature `T` , given by $$u(k, T) = \\frac{\\hbar c k^3}{\\pi^2\\left(e^{\\hbar c k/k_B T} - 1 \\right)}.$$"
   ]
  },
  {
   "cell_type": "code",
   "execution_count": 10,
   "metadata": {},
   "outputs": [],
   "source": [
    "def absxsec(kvals, lam):\n",
    "    sigma = []\n",
    "    for k in range(len(kvals)):\n",
    "        sums = 0\n",
    "        for s in range(len(vals[0])):\n",
    "            sumjm = 0\n",
    "            for count in range(len(basis)):\n",
    "                j, m, la = basis[count][1:]\n",
    "                if la == lam:\n",
    "                    sumjm += vecs[k][s][count]*np.conjugate(vecs[k][s][count])\n",
    "            sums += vals[k][s]*sumjm\n",
    "        sigma.append(np.pi*np.real(sums)/(2*kvals[k]**2))\n",
    "    return np.array(sigma)\n",
    "\n",
    "def PlanckE(k, T):\n",
    "    return hbar*c0*(k**3)/(np.pi**2 * (np.exp(k*hbar*c0/(Kb*T)) - 1))"
   ]
  },
  {
   "cell_type": "code",
   "execution_count": 11,
   "metadata": {},
   "outputs": [],
   "source": [
    "sigmaplus = absxsec(kvals, 1)\n",
    "sigmaminus = absxsec(kvals, 0)\n",
    "\n",
    "Energy = PlanckE(kvals, 595) #Energy density for a thermal bath at T = 595 K"
   ]
  },
  {
   "cell_type": "code",
   "execution_count": 12,
   "metadata": {},
   "outputs": [],
   "source": [
    "# Here we save the data for Fig 2a\n",
    "file = open('FigApp2a.dat', \"w\")\n",
    "\n",
    "for i in range(len(kplot)):\n",
    "    file.write(\"%.6f\\t%10.10e\\t%.10e\\t%10.10e\\n\"%(kplot[i], 1e12*sigmaplus[i], 1e12*sigmaminus[i],200*np.pi*Energy[i]))\n",
    "file.close()\n"
   ]
  },
  {
   "cell_type": "code",
   "execution_count": 25,
   "metadata": {
    "scrolled": true
   },
   "outputs": [
    {
     "data": {
      "image/png": "[encoded data removed]",
      "text/plain": [
       "<Figure size 504x360 with 2 Axes>"
      ]
     },
     "metadata": {
      "needs_background": "light"
     },
     "output_type": "display_data"
    }
   ],
   "source": [
    "fig, ax1 = plt.subplots(figsize = (7,5))\n",
    "ax2 = ax1.twinx()\n",
    "ax2.semilogx(kplot, 1e12*sigmaplus, c = 'blue', label = r\"$\\sigma_{+1}$\")\n",
    "ax2.semilogx(kplot, 1e12*sigmaminus, c = 'darkred', label = r\"$\\sigma_{-1}$\")\n",
    "ax1.plot(kplot, 100*2*np.pi**Energy, '--', c = 'fuchsia')\n",
    "ax1.set_xlabel(r'Wavenumber (cm$^{-1}$)', fontsize = 14)\n",
    "ax2.set_ylabel(r'Absorption cross section ($\\mu$ m$^2)$', c = 'k', fontsize = 14)\n",
    "ax1.set_ylabel('Energy density (J/m$^3$/cm$^{-1}$)', c= 'fuchsia',fontsize = 14)\n",
    "ax2.legend(fontsize = 14)\n",
    "#plt.xlim([6e2,8e3])\n",
    "plt.show()"
   ]
  },
  {
   "cell_type": "markdown",
   "metadata": {},
   "source": [
    "***\n",
    "## Functions for computing the emission thermal spectrum\n",
    "- `PW2SW` is the function that transforms a vector from the plane wave basis to the multipolar basis. It takes as arguments the polar angle `theta` and azimuthal angle `phi`, the helicity of the emitted radiation `lam`, and the maximum multipolar order `jmax`. Since the library Treams handles helicity values of 0 for -1 helicity, conversion to the value 1 is necessary. The function `SphericalWaveBasis.default(jmax)` provides the values of $j$ , $m$ and $\\lambda$ for each element of the array given the value of `jmax`, which is necessary to know the corresponding values to transform. Since states with opposite polarization are orthogonal, only elements with the same polarization as the one of interest (`lam`) are converted. The function returns a vector with the coefficients, whose dimension is $2j_\\text{max}(j_\\text{max} + 2).$\n",
    "- The function `prodDs` calculates the product between the elements of the Wigner matrices $D^j_{m\\lambda}$ and the vectors $|s\\rangle$ (Eq. (11)). The function takes as parameters the vector of coefficients in the multipolar basis obtained from the PW2SW function, and a singular vector s. Since the library Treams handles helicity values of 0 for -1 helicity, conversion to the value -1 is necessary. The function returns the squared scalar product value between the vectors $D$ and $|s\\rangle$.\n",
    "- The function `KirchhoffsLaw` computes the thermal angular spectrum (Eq. (18)). This function uses the coefficients given by `PW2SW` by considering the direction $-\\vec{k}$. This function takes as arguments the angles `theta` and `phi`, the helicity `lam` of the emitted radiation, the singular values `vals` and vectors `vecs`, respectively, the temperature `T`, and the maximum multipolar order `jmax`, and returns the value of the angular thermal spectrum multiplied by `k`, for having the correct units of photon density.\n",
    "***"
   ]
  },
  {
   "cell_type": "code",
   "execution_count": 14,
   "metadata": {},
   "outputs": [],
   "source": [
    "def PW2SW(theta, phi, lam, jmax):\n",
    "    coeff = []\n",
    "    indices = trm.SphericalWaveBasis.default(jmax)\n",
    "    for count in range(len(indices)):\n",
    "        j, m, la = indices[count][1:]\n",
    "        if la == 0:\n",
    "            la = -1\n",
    "        if lam != la:\n",
    "            coeff.append(0.0)\n",
    "        else: \n",
    "            #Here it is necessary to use the function wignerd for getting the elements of the Wigner's matrices\n",
    "            coeff.append(np.sqrt((2*j+1)/(4*np.pi))*trm.special.cython_special.wignerd(j,m,la,phi,theta,0))\n",
    "    return coeff\n",
    "\n",
    "def prodDs(Dvec, vec, lam, jmax):\n",
    "    indices = trm.SphericalWaveBasis.default(jmax)\n",
    "    summ = 0\n",
    "    for count in range(len(indices)): #Loop over all possible combinacions of j,m and λ\n",
    "        j, m, la = indices[count][1:]\n",
    "        if la == 0:\n",
    "            la = -1\n",
    "        if la == lam:\n",
    "            summ += np.conjugate(Dvec[count])*vec[count]\n",
    "    return abs(summ)**2\n",
    "\n",
    "def KirchhoffsLaw(theta, phi, lam, kvals, vals, vecs, jmax, T):\n",
    "    beta = (hbar*c0)/(Kb*T)\n",
    "    if lam == 0:\n",
    "        lam = -1\n",
    "    Dvec = PW2SW(np.pi-theta, phi + np.pi, lam, jmax)\n",
    "    Expvals = []\n",
    "    for f in range(len(kvals)): #loop over the frequencies\n",
    "        Expval = 0\n",
    "        for i in range(len(vals[0])): #loop over the modes\n",
    "            Expval += c0*vals[f][i]/(2*np.pi*kvals[f]*(np.exp(beta*kvals[f]) -1)) * prodDs(Dvec, vecs[f][i], lam, jmax)\n",
    "        Expvals.append(Expval)\n",
    "    return kvals*Expvals"
   ]
  },
  {
   "cell_type": "markdown",
   "metadata": {},
   "source": [
    "## Functions for computing the thermal spectrum as a function of $\\theta$ or $\\phi$\n",
    "The functions FunPolar and FunPhi compute the thermal angular spectrum (Eq. (18)) as a function of `theta` and `phi`, respectively. These functions receive an array as a variable (either `theta_range` for having the spectrum as a function of $\\theta$ or `phi_range` for having it as a function of $\\phi$), the value of `jmax`, the temperature `T` and the arrays of singunar values `vals` and vectors `vecs`, and return a matrix whose dimensions are `len(phi_range)`$\\times$ `len(fvals)`, or `len(theta_range)`$\\times$ `len(fvals)`."
   ]
  },
  {
   "cell_type": "code",
   "execution_count": 15,
   "metadata": {},
   "outputs": [],
   "source": [
    "def FunPolar(theta_range, phi, lam, jmax, T, kvals, vals, vecs):\n",
    "    aspec_angle = []\n",
    "    for th in theta_range: #loop over all angles in theta_range\n",
    "        aspec_angle.append(KirchhoffsLaw(th, phi, lam, kvals, vals, vecs, jmax, T))\n",
    "    return aspec_angle\n",
    "\n",
    "def FunPhi(theta, phi_range, lam, jmax, T, kvals,vals, vecs):\n",
    "    aspec_angle = []\n",
    "    for p in phi_range: #loop over all angles in phi_range\n",
    "        aspec_angle.append(KirchhoffsLaw(theta, p, lam, kvals, vals, vecs, jmax, T))\n",
    "    return aspec_angle  "
   ]
  },
  {
   "cell_type": "code",
   "execution_count": 16,
   "metadata": {},
   "outputs": [],
   "source": [
    "theta_range = np.linspace(0.001, np.pi, 200) #Array of values for theta\n",
    "phi_range = np.linspace(0.001, 2*np.pi, 400) #Array of values for phi"
   ]
  },
  {
   "cell_type": "code",
   "execution_count": null,
   "metadata": {},
   "outputs": [],
   "source": [
    "theta_range = np.linspace(0.001, np.pi, 200) #Array of values for theta\n",
    "phi_range = np.linspace(0.001, 2*np.pi, 400) #Array of values for phi\n",
    "\n",
    "#Computing thermal angular spectrum as function of θ with the monochromatic theory for ϕ = π/4\n",
    "ph_theta1 = np.array(FunPolar(theta_range, np.pi/4, 1, 5, 595, kvals, vals, vecs))\n",
    "print('Done')\n",
    "ph_theta0 = np.array(FunPolar(theta_range, np.pi/4, 0, 5, 595, kvals, vals, vecs))\n",
    "print('Done')\n",
    "#Computing thermal angular spectrum as function of ϕ with the monochromatic theory for θ = π/4\n",
    "ph_phi1 = np.array(FunPhi(np.pi/4, phi_range, 1, 5, 595, kvals, vals, vecs))\n",
    "print('Done')\n",
    "ph_phi0 = np.array(FunPhi(np.pi/4, phi_range, 0, 5, 595, kvals, vals, vecs))\n",
    "print('Done')"
   ]
  },
  {
   "cell_type": "code",
   "execution_count": null,
   "metadata": {},
   "outputs": [],
   "source": [
    "# Here we save the data for the figures in Appendix C\n",
    "np.savetxt('DataFigApp3b.dat', 200*np.pi*ph_theta1, fmt = '%10.10e')\n",
    "np.savetxt('DataFigApp3a.dat', 200*np.pi*ph_theta0, fmt = '%10.10e')\n",
    "np.savetxt('DataFigApp3d.dat', 200*np.pi*ph_phi1, fmt = '%10.10e')\n",
    "np.savetxt('DataFigApp3c.dat', 200*np.pi*ph_phi0, fmt = '%10.10e')"
   ]
  },
  {
   "cell_type": "code",
   "execution_count": null,
   "metadata": {},
   "outputs": [],
   "source": [
    "R, Theta = np.meshgrid(kplot, theta_range)\n",
    "\n",
    "plt.figure(figsize = (12,6))\n",
    "ax = plt.subplot(121, polar = True)\n",
    "c = ax.pcolormesh(Theta, R, 200*np.pi*ph_theta0, cmap = 'hot', norm=colors.LogNorm(vmin = 1e3, vmax=1e8))\n",
    "cbar = plt.colorbar(c, pad = -0.1)\n",
    "cbar.ax.tick_params(labelsize=15)\n",
    "cbar.set_label(label=r'Angular photon density (1/cm$^{-1}$/s)', size=14)\n",
    "ax.tick_params(axis ='y', labelsize=14)\n",
    "ax.tick_params(axis ='x', labelsize=14)\n",
    "ax.set_theta_zero_location('N')\n",
    "ax.set_theta_direction(-1)\n",
    "ax.set_thetamax(180)\n",
    "ax.set_rscale('symlog', linthresh = 6e2)\n",
    "ax.set_rlim(rmin=6e2)\n",
    "ax.set_yticks([6e2, 1e3, 2e3, 4e3, 8e3])\n",
    "ax.set_yticklabels((r'$6\\times 10^2$', r'$10^3$', r'$2\\times 10^3$', r'$4\\times 10^3$', r'$8\\times 10^3$'))\n",
    "ax.grid(True, c = 'white')\n",
    "ax.set_xticks(np.linspace(0, 7*np.pi/6, 7, endpoint=False))\n",
    "ax.set_xticklabels(['0', r'$\\frac{\\pi}{6}$', r'$\\frac{\\pi}{3}$', r'$\\frac{\\pi}{2}$', r'$\\frac{2\\pi}{3}$', r'$\\frac{5\\pi}{6}$', r'$\\pi$'])\n",
    "ax.set_ylabel(r'Wavenumber (cm$^{-1}$)',labelpad = -10, fontsize = 14, loc = 'top')\n",
    "ax.set_xlabel(r'$\\theta$', fontsize = 14)\n",
    "ax.text(3.5, 5e4, r'$\\lambda = -1$', fontsize=14, color='k', ha='left')\n",
    "\n",
    "ax = plt.subplot(122, polar = True)\n",
    "c = ax.pcolormesh(Theta, R, 200*np.pi*ph_theta1, cmap = 'hot', norm=colors.LogNorm(vmin = 1e3, vmax=1e8))\n",
    "cbar = plt.colorbar(c, pad = -0.1)\n",
    "cbar.ax.tick_params(labelsize=15)\n",
    "cbar.set_label(label=r'Angular photon density (1/cm$^{-1}$/s)', size=14)\n",
    "ax.tick_params(axis ='y', labelsize=14)\n",
    "ax.tick_params(axis ='x', labelsize=14)\n",
    "ax.set_theta_zero_location('N')\n",
    "ax.set_theta_direction(-1)\n",
    "ax.set_thetamax(180)\n",
    "ax.set_rscale('symlog', linthresh = 6e2)\n",
    "ax.set_rlim(rmin=6e2)\n",
    "ax.set_yticks([6e2, 1e3, 2e3, 4e3, 8e3])\n",
    "ax.set_yticklabels((r'$6\\times 10^2$', r'$10^3$', r'$2\\times 10^3$', r'$4\\times 10^3$', r'$8\\times 10^3$'))\n",
    "ax.grid(True, c = 'white')\n",
    "ax.set_xticks(np.linspace(0, 7*np.pi/6, 7, endpoint=False))\n",
    "ax.set_xticklabels(['0', r'$\\frac{\\pi}{6}$', r'$\\frac{\\pi}{3}$', r'$\\frac{\\pi}{2}$', r'$\\frac{2\\pi}{3}$', r'$\\frac{5\\pi}{6}$', r'$\\pi$'])\n",
    "ax.set_ylabel(r'Wavenumber (cm$^{-1}$)',labelpad = -10, fontsize = 14, loc = 'top')\n",
    "ax.set_xlabel(r'$\\theta$', fontsize = 14)\n",
    "ax.text(3.5, 5e4, r'$\\lambda = 1$', fontsize=14, color='k', ha='left')\n",
    "\n",
    "plt.show()"
   ]
  },
  {
   "cell_type": "code",
   "execution_count": null,
   "metadata": {},
   "outputs": [],
   "source": [
    "R, Phi = np.meshgrid(kplot, phi_range)\n",
    "\n",
    "plt.figure(figsize = (16,10))\n",
    "ax = plt.subplot(211, polar = True)\n",
    "c = ax.pcolormesh(Phi, R, 200*np.pi*ph_phi0, cmap = 'hot', norm=colors.LogNorm(vmin=1e3, vmax = 1e8))\n",
    "cbar = plt.colorbar(c, pad = 0.1)\n",
    "cbar.ax.tick_params(labelsize=15)\n",
    "cbar.set_label(label=r'Angular photon density (1/cm$^{-1}$/s)', size=12)\n",
    "ax.yaxis.label.set_color(\"blue\")\n",
    "ax.tick_params(axis ='y', labelsize=12, colors ='blue')\n",
    "ax.tick_params(axis ='x', labelsize=12)\n",
    "ax.set_thetamin(0)\n",
    "ax.set_thetamax(360)\n",
    "ax.set_rscale('symlog', linthresh = 6e2)\n",
    "ax.set_rlim(rmin=6e2)\n",
    "ax.set_yticks([6e2, 1e3, 2e3, 4e3, 8e3])\n",
    "ax.set_yticklabels((r'$6\\times 10^2$', r'$10^3$', r'$2\\times 10^3$', r'$4\\times 10^3$', r'$8\\times 10^3$'))\n",
    "ax.grid(True, c = 'white')\n",
    "ax.set_xticks(np.linspace(0, 2*np.pi, 8, endpoint=False))\n",
    "ax.set_xticklabels(['0', r'$\\frac{\\pi}{4}$', r'$\\frac{\\pi}{2}$', r'$\\frac{3\\pi}{4}$', r'$\\pi$', r'$\\frac{5\\pi}{4}$',\n",
    "                    r'$\\frac{3\\pi}{2}$',r'$\\frac{7\\pi}{4}$'])\n",
    "ax.set_ylabel(r'Wavenumber (cm$^{-1}$)', fontsize = 14, labelpad=30, loc = 'top')\n",
    "ax.set_xlabel(r'$\\phi$', fontsize = 14)\n",
    "ax.set_rlabel_position(30)\n",
    "ax.text(3.9, 8e4, r'$\\lambda = -1$', fontsize=14, color='k', ha='left')\n",
    "\n",
    "ax = plt.subplot(212, polar = True)\n",
    "c = ax.pcolormesh(Phi, R, 200*np.pi*ph_phi1, cmap = 'hot', norm=colors.LogNorm(vmin=1e3, vmax = 1e8))\n",
    "cbar = plt.colorbar(c, pad = 0.1)\n",
    "cbar.ax.tick_params(labelsize=15)\n",
    "cbar.set_label(label=r'Angular photon density (1/cm$^{-1}$/s)', size=12)\n",
    "ax.yaxis.label.set_color(\"blue\")\n",
    "ax.tick_params(axis ='y', labelsize=12, colors ='blue')\n",
    "ax.tick_params(axis ='x', labelsize=12)\n",
    "ax.set_thetamin(0)\n",
    "ax.set_thetamax(360)\n",
    "ax.set_rscale('symlog', linthresh = 6e2)\n",
    "ax.set_rlim(rmin=6e2)\n",
    "ax.set_yticks([6e2, 1e3, 2e3, 4e3, 8e3])\n",
    "ax.set_yticklabels((r'$6\\times 10^2$', r'$10^3$', r'$2\\times 10^3$', r'$4\\times 10^3$', r'$8\\times 10^3$'))\n",
    "ax.grid(True, c = 'white')\n",
    "ax.set_xticks(np.linspace(0, 2*np.pi, 8, endpoint=False))\n",
    "ax.set_xticklabels(['0', r'$\\frac{\\pi}{4}$', r'$\\frac{\\pi}{2}$', r'$\\frac{3\\pi}{4}$', r'$\\pi$', r'$\\frac{5\\pi}{4}$',\n",
    "                    r'$\\frac{3\\pi}{2}$',r'$\\frac{7\\pi}{4}$'])\n",
    "ax.set_ylabel(r'Wavenumber (cm$^{-1}$)', fontsize = 14, labelpad=30, loc = 'top')\n",
    "ax.set_xlabel(r'$\\phi$', fontsize = 14)\n",
    "ax.set_rlabel_position(30)\n",
    "ax.text(3.9, 8e4, r'$\\lambda = 1$', fontsize=14, color='k', ha='left')\n",
    "\n",
    "plt.show()"
   ]
  },
  {
   "cell_type": "markdown",
   "metadata": {},
   "source": [
    "***\n",
    "## Computing integral of the emission sprectrum over the solid angle\n",
    "\n",
    "Now, we´re interested in computing the integral of the thermal emission spectrum over the solid angle, as defined in Eq. (20).\n",
    "\n",
    "The function `IntegralSA` receives the value of `jmax`, the helicity of the emitted photons `lam`, the aaray of wavevectors `kvals`, the arrays of singular values and vectors `vals`and `vecs`, respectively, and the temperature `T`of the thermal bath. The integral is given by\n",
    "$$ \\mathcal{I}_\\lambda(k) = \\int_0^{2\\pi} d\\phi_k \\int_0^{\\pi} d\\theta_k  \\sin\\theta_k \\, k\\, \\mathbb{E}\\{ |\\langle \\mathbf{k}\\lambda|\\Phi_\\text{thermal}\\rangle|^2\\}.$$\n",
    "This function returns an array of length `len(kvals)` which contains the integral over the solid angle for every wave vector in `kvals`.\n",
    "\n",
    "***\n"
   ]
  },
  {
   "cell_type": "code",
   "execution_count": 17,
   "metadata": {},
   "outputs": [],
   "source": [
    "def IntegralSA(jmax, lam, kvals, vals, vecs, T):\n",
    "    beta = (hbar*c0)/(Kb*T)\n",
    "    if lam == 0:\n",
    "        lam = -1    \n",
    "    integral = []\n",
    "        \n",
    "    def Integrand(f, theta, phi, jmax): #Defining the integrand\n",
    "        Dvec = PW2SW(np.pi-theta, phi + np.pi, lam, jmax)  #Coefficients of the plane wave in spherical basis\n",
    "        Expval = 0 \n",
    "        for i in range(len(vals[0])):\n",
    "            Expval += c0*vals[f][i]/(2*np.pi*kvals[f]*(np.exp(beta*kvals[f]) -1)) * prodDs(Dvec, vecs[f][i], lam, jmax)\n",
    "        return np.sin(theta)*Expval*kvals[f] # sin(θ) comes from the integration in the solid angle\n",
    "    \n",
    "    for k in range(len(kvals)):\n",
    "        # Performing numerical integration\n",
    "        fint = lambda theta, phi: Integrand(k, theta, phi, jmax) #Defining the function to integrate\n",
    "        integral.append(integrate.dblquad(fint, 0, 2*np.pi, 0, np.pi)[0]) #Double quadrature\n",
    "    return integral   "
   ]
  },
  {
   "cell_type": "code",
   "execution_count": 18,
   "metadata": {},
   "outputs": [],
   "source": [
    "# Here we compute the integral for both values of helicity\n",
    "photonslam1 = IntegralSA(5, 1, kvals, vals, vecs, 595) # λ = 1\n",
    "photonslam0 = IntegralSA(5, -1, kvals, vals, vecs, 595) # λ = -1"
   ]
  },
  {
   "cell_type": "code",
   "execution_count": 19,
   "metadata": {},
   "outputs": [],
   "source": [
    "photonslam1 = np.array(photonslam1)\n",
    "photonslam0 = np.array(photonslam0)\n",
    "\n",
    "# Here we compute the thermal g-factor as defined in Eq. (22)\n",
    "gfac = 2*(photonslam1-photonslam0)/(photonslam1+photonslam0)"
   ]
  },
  {
   "cell_type": "code",
   "execution_count": 21,
   "metadata": {},
   "outputs": [
    {
     "data": {
      "image/png": "[encoded data removed]",
      "text/plain": [
       "<Figure size 504x360 with 2 Axes>"
      ]
     },
     "metadata": {
      "needs_background": "light"
     },
     "output_type": "display_data"
    }
   ],
   "source": [
    "fig, ax1 = plt.subplots(figsize = (7,5))\n",
    "ax2 = ax1.twinx()\n",
    "ax1.loglog(kplot, 200*np.pi*photonslam1, c = 'blue', label = r'$\\lambda = 1$')\n",
    "ax1.loglog(kplot, 200*np.pi*photonslam0, c = 'red', label = r'$\\lambda = -1$')\n",
    "ax1.set_ylabel(r'Integrated photon density (1/cm$^{-1}$/s)', fontsize = 14)\n",
    "ax2.plot(kplot, gfac, '--', c = 'green')\n",
    "ax2.set_ylabel(r'Thermal g-factor', fontsize = 14, c = 'green')\n",
    "ax1.set_xlabel(r'Wavenumber (cm$^{-1}$)', fontsize = 14)\n",
    "ax1.legend(fontsize = 14)\n",
    "#plt.xlim([6e2,8e3])\n",
    "plt.show()"
   ]
  },
  {
   "cell_type": "code",
   "execution_count": 23,
   "metadata": {},
   "outputs": [],
   "source": [
    "# Here we save the data for Fig. 2b\n",
    "\n",
    "file = open('DataFigApp4.dat','w')\n",
    "\n",
    "for i in range(len(kplot)):\n",
    "    file.write('%.5f\\t%.10e\\t%.10e\\n'%(kplot[i], 200*np.pi*photonslam1[i], 200*np.pi*photonslam0[i]))\n",
    "    \n",
    "file.close()"
   ]
  },
  {
   "cell_type": "markdown",
   "metadata": {},
   "source": [
    "*** \n",
    "The total number of emitted photons of helicity $\\lambda$ per second is given by Eq. (21), namely\n",
    "$$ N_\\lambda = \\int dk \\, \\mathcal{I}_\\lambda(k).$$.\n",
    "This is computed in the following cell by using the function `trapz`from Numpy.\n",
    "***"
   ]
  },
  {
   "cell_type": "code",
   "execution_count": 24,
   "metadata": {},
   "outputs": [
    {
     "name": "stdout",
     "output_type": "stream",
     "text": [
      "Emitted photons for helicity λ = -1:  12392051215.237383\n",
      "Emitted photons for helicity λ = 1:  41750961466.40233\n"
     ]
    }
   ],
   "source": [
    "emiphot0 = np.trapz(photonslam0, kvals)\n",
    "emiphot1 = np.trapz(photonslam1, kvals)\n",
    "print('Emitted photons for helicity λ = -1: ', emiphot0)\n",
    "print('Emitted photons for helicity λ = 1: ', emiphot1)"
   ]
  },
  {
   "cell_type": "code",
   "execution_count": null,
   "metadata": {},
   "outputs": [],
   "source": []
  }
 ],
 "metadata": {
  "kernelspec": {
   "display_name": "Python 3",
   "language": "python",
   "name": "python3"
  },
  "language_info": {
   "codemirror_mode": {
    "name": "ipython",
    "version": 3
   },
   "file_extension": ".py",
   "mimetype": "text/x-python",
   "name": "python",
   "nbconvert_exporter": "python",
   "pygments_lexer": "ipython3",
   "version": "3.8.10"
  }
 },
 "nbformat": 4,
 "nbformat_minor": 4
}
